{
 "cells": [
  {
   "cell_type": "code",
   "execution_count": 2,
   "id": "e6087c65-bfb1-4c0e-bad6-eaee9ee8e057",
   "metadata": {
    "tags": []
   },
   "outputs": [],
   "source": [
    "import os\n",
    "from glob import glob\n",
    "import pandas as pd\n",
    "import cv2\n",
    "import matplotlib.pyplot as plt\n",
    "from tqdm import tqdm"
   ]
  },
  {
   "cell_type": "code",
   "execution_count": 3,
   "id": "633f9619-444c-4881-be5d-6b4f0921907d",
   "metadata": {
    "tags": []
   },
   "outputs": [],
   "source": [
    "def read_image(img_path):\n",
    "    img = cv2.imread(img_path)\n",
    "    img_rgb = cv2.cvtColor(img, cv2.COLOR_BGR2RGB)\n",
    "    return img_rgb"
   ]
  },
  {
   "cell_type": "code",
   "execution_count": 4,
   "id": "fffde992-6f27-4789-bde3-359d173f9af5",
   "metadata": {
    "tags": []
   },
   "outputs": [],
   "source": [
    "data_dir = '../影像資料生成競賽/34_Competition 1_Training dataset/Training dataset/img'\n",
    "gt_dir = '../影像資料生成競賽/34_Competition 1_Training dataset/Training dataset/label_img'\n",
    "\n",
    "river_data_paths = glob(os.path.join(data_dir, 'TRA_RI_*.jpg'))\n",
    "road_data_paths = glob(os.path.join(data_dir, 'TRA_RO_*.jpg'))"
   ]
  },
  {
   "cell_type": "code",
   "execution_count": 5,
   "id": "ce64e214-3a1d-4937-92cc-5f342f750dc2",
   "metadata": {
    "tags": []
   },
   "outputs": [
    {
     "data": {
      "text/html": [
       "<div>\n",
       "<style scoped>\n",
       "    .dataframe tbody tr th:only-of-type {\n",
       "        vertical-align: middle;\n",
       "    }\n",
       "\n",
       "    .dataframe tbody tr th {\n",
       "        vertical-align: top;\n",
       "    }\n",
       "\n",
       "    .dataframe thead th {\n",
       "        text-align: right;\n",
       "    }\n",
       "</style>\n",
       "<table border=\"1\" class=\"dataframe\">\n",
       "  <thead>\n",
       "    <tr style=\"text-align: right;\">\n",
       "      <th></th>\n",
       "      <th>data_path</th>\n",
       "      <th>label</th>\n",
       "    </tr>\n",
       "  </thead>\n",
       "  <tbody>\n",
       "    <tr>\n",
       "      <th>0</th>\n",
       "      <td>../影像資料生成競賽/34_Competition 1_Training dataset/...</td>\n",
       "      <td>river</td>\n",
       "    </tr>\n",
       "    <tr>\n",
       "      <th>1</th>\n",
       "      <td>../影像資料生成競賽/34_Competition 1_Training dataset/...</td>\n",
       "      <td>river</td>\n",
       "    </tr>\n",
       "    <tr>\n",
       "      <th>2</th>\n",
       "      <td>../影像資料生成競賽/34_Competition 1_Training dataset/...</td>\n",
       "      <td>river</td>\n",
       "    </tr>\n",
       "    <tr>\n",
       "      <th>3</th>\n",
       "      <td>../影像資料生成競賽/34_Competition 1_Training dataset/...</td>\n",
       "      <td>river</td>\n",
       "    </tr>\n",
       "    <tr>\n",
       "      <th>4</th>\n",
       "      <td>../影像資料生成競賽/34_Competition 1_Training dataset/...</td>\n",
       "      <td>river</td>\n",
       "    </tr>\n",
       "    <tr>\n",
       "      <th>...</th>\n",
       "      <td>...</td>\n",
       "      <td>...</td>\n",
       "    </tr>\n",
       "    <tr>\n",
       "      <th>4315</th>\n",
       "      <td>../影像資料生成競賽/34_Competition 1_Training dataset/...</td>\n",
       "      <td>road</td>\n",
       "    </tr>\n",
       "    <tr>\n",
       "      <th>4316</th>\n",
       "      <td>../影像資料生成競賽/34_Competition 1_Training dataset/...</td>\n",
       "      <td>road</td>\n",
       "    </tr>\n",
       "    <tr>\n",
       "      <th>4317</th>\n",
       "      <td>../影像資料生成競賽/34_Competition 1_Training dataset/...</td>\n",
       "      <td>road</td>\n",
       "    </tr>\n",
       "    <tr>\n",
       "      <th>4318</th>\n",
       "      <td>../影像資料生成競賽/34_Competition 1_Training dataset/...</td>\n",
       "      <td>road</td>\n",
       "    </tr>\n",
       "    <tr>\n",
       "      <th>4319</th>\n",
       "      <td>../影像資料生成競賽/34_Competition 1_Training dataset/...</td>\n",
       "      <td>road</td>\n",
       "    </tr>\n",
       "  </tbody>\n",
       "</table>\n",
       "<p>4320 rows × 2 columns</p>\n",
       "</div>"
      ],
      "text/plain": [
       "                                              data_path  label\n",
       "0     ../影像資料生成競賽/34_Competition 1_Training dataset/...  river\n",
       "1     ../影像資料生成競賽/34_Competition 1_Training dataset/...  river\n",
       "2     ../影像資料生成競賽/34_Competition 1_Training dataset/...  river\n",
       "3     ../影像資料生成競賽/34_Competition 1_Training dataset/...  river\n",
       "4     ../影像資料生成競賽/34_Competition 1_Training dataset/...  river\n",
       "...                                                 ...    ...\n",
       "4315  ../影像資料生成競賽/34_Competition 1_Training dataset/...   road\n",
       "4316  ../影像資料生成競賽/34_Competition 1_Training dataset/...   road\n",
       "4317  ../影像資料生成競賽/34_Competition 1_Training dataset/...   road\n",
       "4318  ../影像資料生成競賽/34_Competition 1_Training dataset/...   road\n",
       "4319  ../影像資料生成競賽/34_Competition 1_Training dataset/...   road\n",
       "\n",
       "[4320 rows x 2 columns]"
      ]
     },
     "execution_count": 5,
     "metadata": {},
     "output_type": "execute_result"
    }
   ],
   "source": [
    "data_df = pd.DataFrame(\n",
    "    {\n",
    "        'data_path': river_data_paths + road_data_paths,\n",
    "        'label': ['river'] * len(river_data_paths) + ['road'] * len(road_data_paths)\n",
    "    }\n",
    ")\n",
    "data_df"
   ]
  },
  {
   "cell_type": "code",
   "execution_count": 6,
   "id": "41ed05d8-6e67-403b-8b27-06d295a52e07",
   "metadata": {
    "tags": []
   },
   "outputs": [],
   "source": [
    "data_df['gt_data_path'] = data_df['data_path'].apply(\n",
    "    lambda p: os.path.join(gt_dir, os.path.basename(p)).replace('.jpg', '.png')\n",
    ")"
   ]
  },
  {
   "cell_type": "code",
   "execution_count": 7,
   "id": "580fe870-9450-4a49-bdda-d734afaed2fa",
   "metadata": {
    "tags": []
   },
   "outputs": [],
   "source": [
    "import numpy as np\n",
    "from PIL import Image\n",
    "from collections import deque\n",
    "\n",
    "def load_image(image_path):\n",
    "    image = Image.open(image_path).convert('RGB')\n",
    "    return np.array(image)\n",
    "\n",
    "def mark_paths(image, label):\n",
    "    rows, cols, _ = image.shape\n",
    "    visited = np.zeros((rows, cols), dtype=bool)\n",
    "    \n",
    "    def is_white(pixel):\n",
    "        return all(pixel == [255, 255, 255])\n",
    "\n",
    "    def bfs(x, y):\n",
    "        queue = deque([(x, y)])\n",
    "        while queue:\n",
    "            x, y = queue.popleft()\n",
    "            # print(f'{x = }, {y = }')\n",
    "            if visited[x, y] or is_white(image[x, y]):\n",
    "                continue\n",
    "            visited[x, y] = True\n",
    "            image[x, y] = [255, 0, 0]  # Mark as red  \n",
    "            if x > 0: queue.append((x - 1, y))\n",
    "            if x < rows - 1: queue.append((x + 1, y))\n",
    "            if y > 0: queue.append((x, y - 1))\n",
    "            if y < cols - 1: queue.append((x, y + 1))\n",
    "\n",
    "    # Iterate over the boundary\n",
    "    for x in range(rows):\n",
    "        for px, py in ((x, 0), (x, cols - 1)):\n",
    "            is_border = all(\n",
    "                [\n",
    "                    any([is_white(image[xx, py]) for xx in range(0, px)]), \n",
    "                    any([is_white(image[xx, py]) for xx in range(px+1, rows)]),\n",
    "                ]\n",
    "            )\n",
    "\n",
    "            # print('px, py', px, py)\n",
    "            if not is_border:\n",
    "                bfs(px, py)\n",
    "    for y in range(cols):\n",
    "        for px, py in ((0, y), (rows - 1, y)):\n",
    "            is_border = all(\n",
    "                [\n",
    "                    any([is_white(image[px, yy]) for yy in range(0, py)]), \n",
    "                    any([is_white(image[px, yy]) for yy in range(py+1, cols)]),\n",
    "                ]\n",
    "            )\n",
    "            if not is_border:\n",
    "                bfs(px, py)\n",
    "\n",
    "    # Mark all non-visited (and non-white) pixels as red\n",
    "    if label == 'RI':\n",
    "        mark_color = [0, 0, 255]# Mark as blue\n",
    "    elif label == 'RO':\n",
    "        mark_color = [0, 255, 0]# Mark as green\n",
    "    else:\n",
    "        raise ValueError(f'No label: {label}')\n",
    "        \n",
    "    for i in range(rows):\n",
    "        for j in range(cols):\n",
    "            if not visited[i, j]:\n",
    "                image[i, j] = mark_color\n",
    "\n",
    "    return image\n",
    "\n",
    "def process_image(image_path, output_path, label):\n",
    "    image = load_image(image_path)\n",
    "    result_image = mark_paths(image, label)\n",
    "    result = Image.fromarray(result_image)\n",
    "    result.save(output_path)  # Save the result as a PNG file"
   ]
  },
  {
   "cell_type": "code",
   "execution_count": 11,
   "id": "f65aed8b-c19e-42f9-9617-02efc39f2904",
   "metadata": {
    "tags": []
   },
   "outputs": [
    {
     "name": "stderr",
     "output_type": "stream",
     "text": [
      "100%|████████████████████████████████████████████████████████████████████████████████████████████████████████████████████████████████████████████████████████████████| 4320/4320 [1:50:14<00:00,  1.53s/it]\n"
     ]
    }
   ],
   "source": [
    "for _, row in tqdm(data_df.iterrows(), total=len(data_df)):\n",
    "    data_path = row['data_path']\n",
    "    gt_data_path = row['gt_data_path']\n",
    "    output_path = data_path[:-4] + '_seg.png'\n",
    "    label = os.path.basename(data_path).split('_')[1]\n",
    "    process_image(gt_data_path, output_path, label)"
   ]
  },
  {
   "cell_type": "code",
   "execution_count": null,
   "id": "b8682b7e-d6fb-47e6-bd0b-f3dae60ad080",
   "metadata": {},
   "outputs": [],
   "source": []
  },
  {
   "cell_type": "code",
   "execution_count": null,
   "id": "777e6fd7-5cc2-43dc-9fe2-40880d322ea6",
   "metadata": {},
   "outputs": [],
   "source": []
  }
 ],
 "metadata": {
  "kernelspec": {
   "display_name": "Python 3 (ipykernel)",
   "language": "python",
   "name": "python3"
  },
  "language_info": {
   "codemirror_mode": {
    "name": "ipython",
    "version": 3
   },
   "file_extension": ".py",
   "mimetype": "text/x-python",
   "name": "python",
   "nbconvert_exporter": "python",
   "pygments_lexer": "ipython3",
   "version": "3.11.8"
  }
 },
 "nbformat": 4,
 "nbformat_minor": 5
}
